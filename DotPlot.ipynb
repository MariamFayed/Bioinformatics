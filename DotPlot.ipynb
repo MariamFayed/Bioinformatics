{
 "cells": [
  {
   "cell_type": "code",
   "execution_count": 1,
   "metadata": {},
   "outputs": [],
   "source": [
    "import numpy as np\n",
    "from matplotlib import pyplot as plt\n",
    "import math"
   ]
  },
  {
   "cell_type": "code",
   "execution_count": 2,
   "metadata": {},
   "outputs": [],
   "source": [
    "def initializeMatrix(seq1,seq2):\n",
    "    len1 = len(seq1)\n",
    "    len2 = len(seq2)\n",
    "    arr = np.zeros([len1,len2],dtype=np.int)\n",
    "    for i in range (0,len1):\n",
    "        for j in range(0,len2):\n",
    "            arr[i][j] = 0\n",
    "    return arr,len1,len2"
   ]
  },
  {
   "cell_type": "code",
   "execution_count": 3,
   "metadata": {},
   "outputs": [],
   "source": [
    "def dotMatrix (seq1,seq2,window,step,threshold):\n",
    "    arr,len1,len2 = initializeMatrix(seq1,seq2)\n",
    "    ## Take first DNA with window size\n",
    "    wind1 = seq1[:window]\n",
    "    wind2 = seq2[:window]\n",
    "    print(wind1, '' ,wind2)\n",
    "    ## Looping on Seq1, Seq2 till end minus window size\n",
    "    j = 0\n",
    "    while (j < len2 - window + 1):\n",
    "        ## Setting window size position of Seq2\n",
    "        wind2 = seq2[j : window + j]\n",
    "        match = 0\n",
    "        k = 0\n",
    "        while (k < len1 - window + 1):\n",
    "            wind1 = seq1[k : window + k]\n",
    "            ## Initial Match to 0\n",
    "            match = 0\n",
    "            ## Make 2 lists of the Neuclotides to be compared in the current window\n",
    "            nucleotide_wind1 = list(wind1)\n",
    "            nucleotide_wind2 = list(wind2)\n",
    "            print(nucleotide_wind1,nucleotide_wind2)\n",
    "            ind = 0\n",
    "            ## Compare each nuceotide of 1st seq window with 2nd seq window\n",
    "            for nucleotide1 in nucleotide_wind1:\n",
    "                if nucleotide1 == nucleotide_wind2[ind]:\n",
    "                    ## Match found, Increment match by 1\n",
    "                    match += 1\n",
    "                ind += 1\n",
    "            ## Check if Total match between the 2 windowed sequences equals or greater than the threshold\n",
    "            if match >= threshold:\n",
    "                arr[j+(math.floor(window/2))][k+(math.floor(window/2))] = 1\n",
    "                print('match')\n",
    "                #print(arr)\n",
    "            k += step\n",
    "        j += step\n",
    "    return arr\n",
    "        "
   ]
  },
  {
   "cell_type": "code",
   "execution_count": 4,
   "metadata": {},
   "outputs": [],
   "source": [
    "def plotMatrix(arr,seq1,seq2):\n",
    "    ## Coloring Rows and Columns Labels for clarity \n",
    "    colors = np.zeros([len(seq1),len(seq2)],dtype=str)\n",
    "    ## Setting Colors array\n",
    "    for i in range(len(seq1)):\n",
    "        for j in range(len(seq2)):\n",
    "            if arr[i][j] == 1:\n",
    "                colors[i][j] = 0\n",
    "            else:\n",
    "                colors[i][j] = 1\n",
    "    ## Plotting the Dot Plot Matrix Table\n",
    "    fig, ax =plt.subplots(1,1)\n",
    "    cols=seq1\n",
    "    rows=seq2\n",
    "    ax.axis('off')\n",
    "    rcolors = plt.cm.BuPu(np.full(len(seq1), 0.6))\n",
    "    ccolors = plt.cm.BuPu(np.full(len(seq2), 0.6))\n",
    "    ax.table(cellText=arr,colLabels=cols,rowLabels=rows,rowColours=rcolors,colColours=ccolors,cellColours=colors,loc=\"center\")\n",
    "\n",
    "    plt.show()"
   ]
  },
  {
   "cell_type": "code",
   "execution_count": 5,
   "metadata": {},
   "outputs": [
    {
     "name": "stdout",
     "output_type": "stream",
     "text": [
      "ACCTTGTCCTCTTTGCCC   ACGTTGACCTGTAACCTC\n",
      "ACCTTGTCC  ACGTTGACC\n",
      "['A', 'C', 'C', 'T', 'T', 'G', 'T', 'C', 'C'] ['A', 'C', 'G', 'T', 'T', 'G', 'A', 'C', 'C']\n",
      "match\n",
      "['T', 'T', 'G', 'T', 'C', 'C', 'T', 'C', 'T'] ['A', 'C', 'G', 'T', 'T', 'G', 'A', 'C', 'C']\n",
      "['T', 'C', 'C', 'T', 'C', 'T', 'T', 'T', 'G'] ['A', 'C', 'G', 'T', 'T', 'G', 'A', 'C', 'C']\n",
      "['T', 'C', 'T', 'T', 'T', 'G', 'C', 'C', 'C'] ['A', 'C', 'G', 'T', 'T', 'G', 'A', 'C', 'C']\n",
      "match\n",
      "['A', 'C', 'C', 'T', 'T', 'G', 'T', 'C', 'C'] ['T', 'T', 'G', 'A', 'C', 'C', 'T', 'G', 'T']\n",
      "['T', 'T', 'G', 'T', 'C', 'C', 'T', 'C', 'T'] ['T', 'T', 'G', 'A', 'C', 'C', 'T', 'G', 'T']\n",
      "match\n",
      "['T', 'C', 'C', 'T', 'C', 'T', 'T', 'T', 'G'] ['T', 'T', 'G', 'A', 'C', 'C', 'T', 'G', 'T']\n",
      "['T', 'C', 'T', 'T', 'T', 'G', 'C', 'C', 'C'] ['T', 'T', 'G', 'A', 'C', 'C', 'T', 'G', 'T']\n",
      "['A', 'C', 'C', 'T', 'T', 'G', 'T', 'C', 'C'] ['A', 'C', 'C', 'T', 'G', 'T', 'A', 'A', 'C']\n",
      "match\n",
      "['T', 'T', 'G', 'T', 'C', 'C', 'T', 'C', 'T'] ['A', 'C', 'C', 'T', 'G', 'T', 'A', 'A', 'C']\n",
      "['T', 'C', 'C', 'T', 'C', 'T', 'T', 'T', 'G'] ['A', 'C', 'C', 'T', 'G', 'T', 'A', 'A', 'C']\n",
      "match\n",
      "['T', 'C', 'T', 'T', 'T', 'G', 'C', 'C', 'C'] ['A', 'C', 'C', 'T', 'G', 'T', 'A', 'A', 'C']\n",
      "['A', 'C', 'C', 'T', 'T', 'G', 'T', 'C', 'C'] ['T', 'G', 'T', 'A', 'A', 'C', 'C', 'T', 'C']\n",
      "['T', 'T', 'G', 'T', 'C', 'C', 'T', 'C', 'T'] ['T', 'G', 'T', 'A', 'A', 'C', 'C', 'T', 'C']\n",
      "['T', 'C', 'C', 'T', 'C', 'T', 'T', 'T', 'G'] ['T', 'G', 'T', 'A', 'A', 'C', 'C', 'T', 'C']\n",
      "['T', 'C', 'T', 'T', 'T', 'G', 'C', 'C', 'C'] ['T', 'G', 'T', 'A', 'A', 'C', 'C', 'T', 'C']\n",
      "match\n",
      "\n",
      "\n"
     ]
    },
    {
     "data": {
      "image/png": "[encoded data removed]",
      "text/plain": [
       "<Figure size 432x288 with 1 Axes>"
      ]
     },
     "metadata": {
      "needs_background": "light"
     },
     "output_type": "display_data"
    }
   ],
   "source": [
    "window = 9\n",
    "step = 3\n",
    "threshold = 4\n",
    "\n",
    "seq1 = 'ACCTTGTCCTCTTTGCCC'\n",
    "seq2 = 'ACGTTGACCTGTAACCTC'\n",
    "\n",
    "#window = 3\n",
    "#step = 1\n",
    "#threshold = 2\n",
    "#seq1 = 'CCATCGCCATCG'\n",
    "#seq2 = 'GCATCGGCTACG'\n",
    "\n",
    "print(seq1, ' ' , seq2)\n",
    "#initializeMatrix(seq1,seq2)\n",
    "array = dotMatrix(seq1,seq2,window,step,threshold)\n",
    "\n",
    "print('\\n')\n",
    "plotMatrix(array,seq1,seq2)\n",
    "#print(array)\n"
   ]
  }
 ],
 "metadata": {
  "kernelspec": {
   "display_name": "Python 3",
   "language": "python",
   "name": "python3"
  },
  "language_info": {
   "codemirror_mode": {
    "name": "ipython",
    "version": 3
   },
   "file_extension": ".py",
   "mimetype": "text/x-python",
   "name": "python",
   "nbconvert_exporter": "python",
   "pygments_lexer": "ipython3",
   "version": "3.6.10"
  }
 },
 "nbformat": 4,
 "nbformat_minor": 4
}
