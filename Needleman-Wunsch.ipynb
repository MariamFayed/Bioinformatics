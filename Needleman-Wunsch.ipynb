{
 "cells": [
  {
   "cell_type": "code",
   "execution_count": 8,
   "metadata": {},
   "outputs": [],
   "source": [
    "import numpy as np"
   ]
  },
  {
   "cell_type": "code",
   "execution_count": 9,
   "metadata": {},
   "outputs": [],
   "source": [
    "match = 2\n",
    "gap = -1\n",
    "mismatch = -1\n",
    "\n",
    "seq1='CATGT'\n",
    "seq2='ACGCTG'\n",
    "\n",
    "#match = 1\n",
    "#gap = -1\n",
    "#mismatch = -1\n",
    "## Test Case 2\n",
    "#seq1='TTCATA'\n",
    "#seq2='TGCTCGTA'"
   ]
  },
  {
   "cell_type": "code",
   "execution_count": 10,
   "metadata": {},
   "outputs": [],
   "source": [
    "def initializeMatrix(seq1,seq2):\n",
    "    len1 = len(seq1)\n",
    "    len2 = len(seq2) \n",
    "    # Structure Scoring Matrix\n",
    "    score_matrix = np.zeros((len1+1, len2+1), dtype=int)\n",
    "\n",
    "    # Initialize all with 0\n",
    "    score_matrix[0][0] = 0\n",
    "    return score_matrix,len1,len2\n"
   ]
  },
  {
   "cell_type": "code",
   "execution_count": 11,
   "metadata": {},
   "outputs": [],
   "source": [
    "## Setting scores for the diagonal. (match or mismatch)\n",
    "def Alignment(i,j):\n",
    "    if i == j:\n",
    "        return match\n",
    "    elif i != j:\n",
    "        return mismatch"
   ]
  },
  {
   "cell_type": "code",
   "execution_count": 12,
   "metadata": {},
   "outputs": [],
   "source": [
    "def getMaxNeigbour (seq1,seq2,k,l,score_matrix):\n",
    "    ## Check Max of the 3 neighbours\n",
    "    diagonal = score_matrix[k-1][l-1] + Alignment(seq1[k-1],seq2[l-1]) ## Mismatch or Match\n",
    "    horizontal_gap = score_matrix[k][l-1] + gap\n",
    "    vertical_gap = score_matrix[k-1][l] + gap\n",
    "    maxNeighbour = max( diagonal , horizontal_gap , vertical_gap )\n",
    "    return maxNeighbour"
   ]
  },
  {
   "cell_type": "code",
   "execution_count": 13,
   "metadata": {},
   "outputs": [],
   "source": [
    "def fillMatrix(seq1,seq2):\n",
    "    \n",
    "    score_matrix,len1,len2 = initializeMatrix(seq1,seq2)\n",
    "    # Initialize first row and column with gaps * indices\n",
    "    for i in range(0,len1+1):\n",
    "        score_matrix[i][0] = i * gap \n",
    "    for j in range(0,len2+1):\n",
    "        score_matrix[0][j] = j * gap \n",
    "        \n",
    "    # Fill the rest of the matrix based on the neighbours and select max value\n",
    "    for k in range(1,len1+1):\n",
    "        for l in range(1,len2+1):\n",
    "            # Check 3 neighbours (horizontal, vertical and diagonal) \n",
    "            maxNeighbour = getMaxNeigbour(seq1,seq2,k,l,score_matrix)\n",
    "            # Max of the 3 neighbours is put to the score matrix\n",
    "            score_matrix[k][l] = maxNeighbour\n",
    "    return score_matrix"
   ]
  },
  {
   "cell_type": "code",
   "execution_count": 14,
   "metadata": {},
   "outputs": [],
   "source": [
    "score_matrix = fillMatrix(seq1,seq2)"
   ]
  },
  {
   "cell_type": "code",
   "execution_count": 15,
   "metadata": {
    "scrolled": true
   },
   "outputs": [],
   "source": [
    "Side_Alignment=\"\"\n",
    "Top_Alignment=\"\"\n",
    "i=len(seq1)\n",
    "j=len(seq2)\n",
    "\n",
    "while (i > 0 or j > 0):\n",
    "    diagonal = score_matrix[i - 1][j - 1]  ## Mismatch or Match\n",
    "    top = score_matrix[i - 1][j]\n",
    "    left = score_matrix[i][j - 1]\n",
    "    maxVal = max(diagonal,top,left)\n",
    "    \n",
    "    ## Check if the max score neighbour is in the diagonal whether a mismatch or a match\n",
    "    if ((i > 0 and j > 0) and ((seq1[i - 1] == seq2[j - 1]) or maxVal == diagonal)): # Match or Mismatch\n",
    "\n",
    "        Side_Alignment = seq1[i - 1] + Side_Alignment\n",
    "        Top_Alignment = seq2[j - 1] + Top_Alignment\n",
    "        i = i - 1\n",
    "        j = j - 1\n",
    "        \n",
    "    ## Max Score Neighbour forms a horizontal gap\n",
    "    elif (i > 0 and (maxVal == top)):\n",
    "        # Horizontal Gap\n",
    "        Top_Alignment = \"-\" + Top_Alignment\n",
    "        Side_Alignment = seq1[i - 1] + Side_Alignment\n",
    "        i = i - 1\n",
    "        \n",
    "    ## Max Score Neighbour forms a vertical gap    \n",
    "    elif (j > 0):\n",
    "        # Vertical Gap\n",
    "        Top_Alignment = seq2[j - 1] + Top_Alignment\n",
    "        Side_Alignment = \"-\" + Side_Alignment\n",
    "        j = j - 1\n"
   ]
  },
  {
   "cell_type": "code",
   "execution_count": 16,
   "metadata": {},
   "outputs": [
    {
     "name": "stdout",
     "output_type": "stream",
     "text": [
      "[[ 0 -1 -2 -3 -4 -5 -6]\n",
      " [-1 -1  1  0 -1 -2 -3]\n",
      " [-2  1  0  0 -1 -2 -3]\n",
      " [-3  0  0 -1 -1  1  0]\n",
      " [-4 -1 -1  2  1  0  3]\n",
      " [-5 -2 -2  1  1  3  2]]\n",
      "Seq1:  CATGT\n",
      "Seq2:  ACGCTG\n"
     ]
    }
   ],
   "source": [
    "print(score_matrix)\n",
    "print(\"Seq1: \",seq1)\n",
    "print(\"Seq2: \",seq2)"
   ]
  },
  {
   "cell_type": "code",
   "execution_count": 17,
   "metadata": {},
   "outputs": [
    {
     "name": "stdout",
     "output_type": "stream",
     "text": [
      "Top_Alignment = ACGCTG-\n"
     ]
    }
   ],
   "source": [
    "print (\"Top_Alignment =\",Top_Alignment) ## Sequence 2"
   ]
  },
  {
   "cell_type": "code",
   "execution_count": 18,
   "metadata": {},
   "outputs": [
    {
     "name": "stdout",
     "output_type": "stream",
     "text": [
      "Side_Alignment = -C-ATGT\n"
     ]
    }
   ],
   "source": [
    "print (\"Side_Alignment =\",Side_Alignment) ## Sequence 1"
   ]
  }
 ],
 "metadata": {
  "kernelspec": {
   "display_name": "Python 3",
   "language": "python",
   "name": "python3"
  },
  "language_info": {
   "codemirror_mode": {
    "name": "ipython",
    "version": 3
   },
   "file_extension": ".py",
   "mimetype": "text/x-python",
   "name": "python",
   "nbconvert_exporter": "python",
   "pygments_lexer": "ipython3",
   "version": "3.6.10"
  }
 },
 "nbformat": 4,
 "nbformat_minor": 4
}
